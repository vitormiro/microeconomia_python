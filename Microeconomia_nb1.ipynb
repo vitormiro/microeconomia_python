{
  "nbformat": 4,
  "nbformat_minor": 0,
  "metadata": {
    "colab": {
      "name": "Microeconomia_nb1.ipynb",
      "provenance": [],
      "authorship_tag": "ABX9TyP7NenfZcxjqmVxJHJyX7Ko",
      "include_colab_link": true
    },
    "kernelspec": {
      "name": "python3",
      "display_name": "Python 3"
    },
    "language_info": {
      "name": "python"
    }
  },
  "cells": [
    {
      "cell_type": "markdown",
      "metadata": {
        "id": "view-in-github",
        "colab_type": "text"
      },
      "source": [
        "<a href=\"https://colab.research.google.com/github/vitormiro/microeconomia_python/blob/main/Microeconomia_nb1.ipynb\" target=\"_parent\"><img src=\"https://colab.research.google.com/assets/colab-badge.svg\" alt=\"Open In Colab\"/></a>"
      ]
    },
    {
      "cell_type": "markdown",
      "source": [
        "# A biblioteca Sympy\n",
        "\n"
      ],
      "metadata": {
        "id": "yJNkXkUT1pQD"
      }
    },
    {
      "cell_type": "code",
      "execution_count": null,
      "metadata": {
        "id": "ooC1b2Fs0Xv1"
      },
      "outputs": [],
      "source": [
        "from sympy import *"
      ]
    },
    {
      "cell_type": "markdown",
      "source": [
        "Funções principais do *sympy*:\n",
        "\n",
        "- `symbols()`: usada ​​para definir variáveis.\n",
        "\n",
        "- `diff()`: usada para obter uma derivada.\n",
        "\n",
        "- `Eq()`: usada para definir o lado direito e o lado esquerdo de uma equação.\n",
        "\n",
        "- `solve()`: usada para resolver equações.\n",
        "\n",
        "- `subs()`: usada para substituir valores em equações."
      ],
      "metadata": {
        "id": "bSalT-FA2K6o"
      }
    },
    {
      "cell_type": "code",
      "source": [
        "# definir Q como um symbol\n",
        "Q = symbols('Q')\n",
        "# Criar uma função de demanda inversa\n",
        "P = 100 - 2*Q\n",
        "# Mostrar a função de demanda inversa\n",
        "P"
      ],
      "metadata": {
        "colab": {
          "base_uri": "https://localhost:8080/",
          "height": 39
        },
        "id": "ArZVk8oP3P2j",
        "outputId": "0ad0eb84-1f93-48c0-dba3-473392f9f13d"
      },
      "execution_count": null,
      "outputs": [
        {
          "output_type": "execute_result",
          "data": {
            "text/latex": "$\\displaystyle 100 - 2 Q$",
            "text/plain": [
              "100 - 2*Q"
            ]
          },
          "metadata": {},
          "execution_count": 2
        }
      ]
    },
    {
      "cell_type": "code",
      "source": [
        "# Definir uma função de Receita Total (RT)\n",
        "RT = P*Q\n",
        "# Mostrar a função de Receita Total (RT)\n",
        "RT"
      ],
      "metadata": {
        "colab": {
          "base_uri": "https://localhost:8080/",
          "height": 39
        },
        "id": "9TGmWivn3x-b",
        "outputId": "5d5fcd75-4c5d-4f6e-f5c2-088a7616f1d8"
      },
      "execution_count": null,
      "outputs": [
        {
          "output_type": "execute_result",
          "data": {
            "text/latex": "$\\displaystyle Q \\left(100 - 2 Q\\right)$",
            "text/plain": [
              "Q*(100 - 2*Q)"
            ]
          },
          "metadata": {},
          "execution_count": 3
        }
      ]
    },
    {
      "cell_type": "markdown",
      "source": [
        "Podemos tomar a primeira derivada da Receita Total (RT) usando a função `diff()`.\n",
        "\n",
        "- `diff(f(x), x)` = \"tome a primeira derivada de $f(x)$ em relação a $x$.\"\n",
        "\n",
        "Vamos obter a Receita Marginal (Rmg)."
      ],
      "metadata": {
        "id": "s2y1jId54Uhp"
      }
    },
    {
      "cell_type": "code",
      "source": [
        "Rmg = diff(RT, Q)\n",
        "Rmg"
      ],
      "metadata": {
        "colab": {
          "base_uri": "https://localhost:8080/",
          "height": 39
        },
        "id": "lKov3FsP5Tdm",
        "outputId": "98423213-8eda-42fb-c7a4-d56247a5568a"
      },
      "execution_count": null,
      "outputs": [
        {
          "output_type": "execute_result",
          "data": {
            "text/latex": "$\\displaystyle 100 - 4 Q$",
            "text/plain": [
              "100 - 4*Q"
            ]
          },
          "metadata": {},
          "execution_count": 4
        }
      ]
    },
    {
      "cell_type": "markdown",
      "source": [
        "Podemos usar a função `diff()` diretamente na função `solve`, que define o valor da função para zero. O resultado é a quantidade que maximiza a receita, ou seja, que é onde Rmg = 0."
      ],
      "metadata": {
        "id": "BVH9IapC5yyi"
      }
    },
    {
      "cell_type": "code",
      "source": [
        "solve(diff(RT, Q))"
      ],
      "metadata": {
        "colab": {
          "base_uri": "https://localhost:8080/"
        },
        "id": "q4J5O0l_5Qe_",
        "outputId": "32f90936-d280-4390-d93f-993009ea043e"
      },
      "execution_count": null,
      "outputs": [
        {
          "output_type": "execute_result",
          "data": {
            "text/plain": [
              "[25]"
            ]
          },
          "metadata": {},
          "execution_count": 5
        }
      ]
    },
    {
      "cell_type": "markdown",
      "source": [
        "A receita total é maximizada em $Q=25$."
      ],
      "metadata": {
        "id": "4S0ruzpH6gcV"
      }
    },
    {
      "cell_type": "markdown",
      "source": [
        "Fazendo um gráfico da função."
      ],
      "metadata": {
        "id": "f9gxaROB6pP3"
      }
    },
    {
      "cell_type": "code",
      "source": [
        "plot(RT, (Q, 0, 50), ylim = (0, 1500), xlim = (0, 55), title = 'Receita Total',\n",
        "     xlabel = 'Quantidade', ylabel = 'Receita ($)');"
      ],
      "metadata": {
        "colab": {
          "base_uri": "https://localhost:8080/",
          "height": 297
        },
        "id": "Syw4YOAJ60lr",
        "outputId": "afad8a0e-2b9b-4933-ccc3-1b5e220cc851"
      },
      "execution_count": null,
      "outputs": [
        {
          "output_type": "display_data",
          "data": {
            "image/png": "[encoded data removed]",
            "text/plain": [
              "<Figure size 432x288 with 1 Axes>"
            ]
          },
          "metadata": {
            "needs_background": "light"
          }
        }
      ]
    },
    {
      "cell_type": "markdown",
      "source": [
        "Vamos definir uma função Custo Total (CT) em função de $Q$.\n"
      ],
      "metadata": {
        "id": "rLmSvOCo7nAs"
      }
    },
    {
      "cell_type": "code",
      "source": [
        "# definir Q como um symbol\n",
        "Q = symbols('Q')\n",
        "# Função Custo Total\n",
        "TC = 5600 + 27*Q - 6*Q**2 + 0.5*Q**3\n",
        "TC"
      ],
      "metadata": {
        "colab": {
          "base_uri": "https://localhost:8080/",
          "height": 39
        },
        "id": "GGaJgE7X-j8c",
        "outputId": "bc1d637e-e8b1-41e5-8bf3-1c7864442b7c"
      },
      "execution_count": 11,
      "outputs": [
        {
          "output_type": "execute_result",
          "data": {
            "text/latex": "$\\displaystyle 0.5 Q^{3} - 6 Q^{2} + 27 Q + 5600$",
            "text/plain": [
              "0.5*Q**3 - 6*Q**2 + 27*Q + 5600"
            ]
          },
          "metadata": {},
          "execution_count": 11
        }
      ]
    },
    {
      "cell_type": "markdown",
      "source": [
        "Obtendo o custo médio (Cme) e pontos de mínimo."
      ],
      "metadata": {
        "id": "5lfuvw7n_QXF"
      }
    },
    {
      "cell_type": "code",
      "source": [
        "Cme = TC/Q\n",
        "solve(diff(Cme, Q))"
      ],
      "metadata": {
        "colab": {
          "base_uri": "https://localhost:8080/"
        },
        "id": "dL2NXeed_PoT",
        "outputId": "1e67ad8a-47a3-4b23-e4c4-5689bf7265bb"
      },
      "execution_count": 14,
      "outputs": [
        {
          "output_type": "execute_result",
          "data": {
            "text/plain": [
              "[20.0000000000000, -7.0 - 15.1986841535707*I, -7.0 + 15.1986841535707*I]"
            ]
          },
          "metadata": {},
          "execution_count": 14
        }
      ]
    },
    {
      "cell_type": "markdown",
      "source": [
        "Considerando apenas resultados positivos."
      ],
      "metadata": {
        "id": "bbp4hMfW_m5E"
      }
    },
    {
      "cell_type": "code",
      "source": [
        "Q = symbols('Q', positive = True)\n",
        "TC = 5600 + 27*Q - 6*Q**2 + 0.5*Q**3\n",
        "Cme = TC/Q\n",
        "solve(diff(Cme, Q))"
      ],
      "metadata": {
        "colab": {
          "base_uri": "https://localhost:8080/"
        },
        "id": "ZudqZHeF_nt8",
        "outputId": "f36a20b4-ac2a-43e8-f316-bf41e9a25f0b"
      },
      "execution_count": 15,
      "outputs": [
        {
          "output_type": "execute_result",
          "data": {
            "text/plain": [
              "[20.0000000000000]"
            ]
          },
          "metadata": {},
          "execution_count": 15
        }
      ]
    }
  ]
}