{
  "nbformat": 4,
  "nbformat_minor": 0,
  "metadata": {
    "colab": {
      "name": "Microeconomia_nb1.ipynb",
      "provenance": [],
      "authorship_tag": "ABX9TyM2gu9RX+HPF3dOaTbN1nvY",
      "include_colab_link": true
    },
    "kernelspec": {
      "name": "python3",
      "display_name": "Python 3"
    },
    "language_info": {
      "name": "python"
    }
  },
  "cells": [
    {
      "cell_type": "markdown",
      "metadata": {
        "id": "view-in-github",
        "colab_type": "text"
      },
      "source": [
        "<a href=\"https://colab.research.google.com/github/vitormiro/microeconomia_python/blob/main/Microeconomia_nb1.ipynb\" target=\"_parent\"><img src=\"https://colab.research.google.com/assets/colab-badge.svg\" alt=\"Open In Colab\"/></a>"
      ]
    },
    {
      "cell_type": "markdown",
      "source": [
        "# A biblioteca Sympy\n",
        "\n",
        "SymPy é uma biblioteca Python para computação simbólica."
      ],
      "metadata": {
        "id": "yJNkXkUT1pQD"
      }
    },
    {
      "cell_type": "code",
      "execution_count": 33,
      "metadata": {
        "id": "ooC1b2Fs0Xv1"
      },
      "outputs": [],
      "source": [
        "from sympy import *"
      ]
    },
    {
      "cell_type": "markdown",
      "source": [
        "Funções principais do *sympy*:\n",
        "\n",
        "- `symbols()`: usada ​​para definir variáveis.\n",
        "\n",
        "- `diff()`: usada para obter uma derivada.\n",
        "\n",
        "- `Eq()`: usada para definir o lado direito e o lado esquerdo de uma equação.\n",
        "\n",
        "- `solve()`: usada para resolver equações.\n",
        "\n",
        "- `subs()`: usada para substituir valores em equações."
      ],
      "metadata": {
        "id": "bSalT-FA2K6o"
      }
    },
    {
      "cell_type": "markdown",
      "source": [
        "Symbol é a classe mais importante do SymPy, uma vez que essa biblioteca lida com cálculos simbólicos. Nesse sentido, variáveis SymPy são objetos da classe Symbols.\n",
        "\n",
        "A função `Symbol()` possui como argumento uma string contendo um símbolo que será atribuído a uma variável."
      ],
      "metadata": {
        "id": "6_-GYrTxR7HS"
      }
    },
    {
      "cell_type": "code",
      "source": [
        "# definir Q como um symbol\n",
        "Q = Symbol('Q')\n",
        "# Criar uma função de demanda inversa\n",
        "P = 100 - 2*Q\n",
        "# Mostrar a função de demanda inversa\n",
        "P"
      ],
      "metadata": {
        "colab": {
          "base_uri": "https://localhost:8080/",
          "height": 39
        },
        "id": "ArZVk8oP3P2j",
        "outputId": "83dfbd7d-4edb-4037-b571-042a9c803777"
      },
      "execution_count": 34,
      "outputs": [
        {
          "output_type": "execute_result",
          "data": {
            "text/latex": "$\\displaystyle 100 - 2 Q$",
            "text/plain": [
              "100 - 2*Q"
            ]
          },
          "metadata": {},
          "execution_count": 34
        }
      ]
    },
    {
      "cell_type": "code",
      "source": [
        "# Definir uma função de Receita Total (RT)\n",
        "RT = P*Q\n",
        "# Mostrar a função de Receita Total (RT)\n",
        "RT"
      ],
      "metadata": {
        "colab": {
          "base_uri": "https://localhost:8080/",
          "height": 39
        },
        "id": "9TGmWivn3x-b",
        "outputId": "89da2a9a-482e-4d32-ab2b-22b88f26d188"
      },
      "execution_count": 35,
      "outputs": [
        {
          "output_type": "execute_result",
          "data": {
            "text/latex": "$\\displaystyle Q \\left(100 - 2 Q\\right)$",
            "text/plain": [
              "Q*(100 - 2*Q)"
            ]
          },
          "metadata": {},
          "execution_count": 35
        }
      ]
    },
    {
      "cell_type": "markdown",
      "source": [
        "Podemos tomar a primeira derivada da Receita Total (RT) usando a função `diff()`.\n",
        "\n",
        "- `diff(f(x), x)` = \"tome a primeira derivada de $f(x)$ em relação a $x$.\"\n",
        "\n",
        "Vamos obter a Receita Marginal (Rmg)."
      ],
      "metadata": {
        "id": "s2y1jId54Uhp"
      }
    },
    {
      "cell_type": "code",
      "source": [
        "Rmg = diff(RT, Q)\n",
        "Rmg"
      ],
      "metadata": {
        "colab": {
          "base_uri": "https://localhost:8080/",
          "height": 39
        },
        "id": "lKov3FsP5Tdm",
        "outputId": "58f07456-2315-4fae-a50b-d9bc5ac656b8"
      },
      "execution_count": 36,
      "outputs": [
        {
          "output_type": "execute_result",
          "data": {
            "text/latex": "$\\displaystyle 100 - 4 Q$",
            "text/plain": [
              "100 - 4*Q"
            ]
          },
          "metadata": {},
          "execution_count": 36
        }
      ]
    },
    {
      "cell_type": "markdown",
      "source": [
        "Podemos usar a função `diff()` diretamente na função `solve`, que define o valor da função para zero. O resultado é a quantidade que maximiza a receita, ou seja, que é onde Rmg = 0."
      ],
      "metadata": {
        "id": "BVH9IapC5yyi"
      }
    },
    {
      "cell_type": "code",
      "source": [
        "solve(diff(RT, Q))"
      ],
      "metadata": {
        "colab": {
          "base_uri": "https://localhost:8080/"
        },
        "id": "q4J5O0l_5Qe_",
        "outputId": "f4f8136b-701a-485a-9fdd-3945928c96d8"
      },
      "execution_count": 37,
      "outputs": [
        {
          "output_type": "execute_result",
          "data": {
            "text/plain": [
              "[25]"
            ]
          },
          "metadata": {},
          "execution_count": 37
        }
      ]
    },
    {
      "cell_type": "markdown",
      "source": [
        "A receita total é maximizada em $Q=25$."
      ],
      "metadata": {
        "id": "4S0ruzpH6gcV"
      }
    },
    {
      "cell_type": "markdown",
      "source": [
        "Fazendo um gráfico da função."
      ],
      "metadata": {
        "id": "f9gxaROB6pP3"
      }
    },
    {
      "cell_type": "code",
      "source": [
        "plot(RT, (Q, 0, 50), ylim = (0, 1500), xlim = (0, 55), title = 'Receita Total',\n",
        "     xlabel = 'Quantidade', ylabel = 'Receita ($)');"
      ],
      "metadata": {
        "colab": {
          "base_uri": "https://localhost:8080/",
          "height": 297
        },
        "id": "Syw4YOAJ60lr",
        "outputId": "48b93607-7471-4892-ceb9-c3ee4233beb8"
      },
      "execution_count": 38,
      "outputs": [
        {
          "output_type": "display_data",
          "data": {
            "image/png": "[encoded data removed]",
            "text/plain": [
              "<Figure size 432x288 with 1 Axes>"
            ]
          },
          "metadata": {
            "needs_background": "light"
          }
        }
      ]
    },
    {
      "cell_type": "markdown",
      "source": [
        "Vamos definir uma função Custo Total (CT) em função de $Q$.\n"
      ],
      "metadata": {
        "id": "rLmSvOCo7nAs"
      }
    },
    {
      "cell_type": "code",
      "source": [
        "# definir Q como um symbol\n",
        "Q = symbols('Q')\n",
        "# Função Custo Total\n",
        "TC = 5600 + 27*Q - 6*Q**2 + 0.5*Q**3\n",
        "TC"
      ],
      "metadata": {
        "colab": {
          "base_uri": "https://localhost:8080/",
          "height": 39
        },
        "id": "GGaJgE7X-j8c",
        "outputId": "7106e4ae-eb6a-4706-d74e-b5d37b082487"
      },
      "execution_count": 39,
      "outputs": [
        {
          "output_type": "execute_result",
          "data": {
            "text/latex": "$\\displaystyle 0.5 Q^{3} - 6 Q^{2} + 27 Q + 5600$",
            "text/plain": [
              "0.5*Q**3 - 6*Q**2 + 27*Q + 5600"
            ]
          },
          "metadata": {},
          "execution_count": 39
        }
      ]
    },
    {
      "cell_type": "markdown",
      "source": [
        "Obtendo o custo médio (Cme) e pontos de mínimo."
      ],
      "metadata": {
        "id": "5lfuvw7n_QXF"
      }
    },
    {
      "cell_type": "code",
      "source": [
        "Cme = TC/Q\n",
        "solve(diff(Cme, Q))"
      ],
      "metadata": {
        "colab": {
          "base_uri": "https://localhost:8080/"
        },
        "id": "dL2NXeed_PoT",
        "outputId": "0034fd26-d0fd-47ab-c0f9-1cc25e35023e"
      },
      "execution_count": 40,
      "outputs": [
        {
          "output_type": "execute_result",
          "data": {
            "text/plain": [
              "[20.0000000000000, -7.0 - 15.1986841535707*I, -7.0 + 15.1986841535707*I]"
            ]
          },
          "metadata": {},
          "execution_count": 40
        }
      ]
    },
    {
      "cell_type": "markdown",
      "source": [
        "Considerando apenas resultados positivos."
      ],
      "metadata": {
        "id": "bbp4hMfW_m5E"
      }
    },
    {
      "cell_type": "code",
      "source": [
        "Q = symbols('Q', positive = True)\n",
        "TC = 5600 + 27*Q - 6*Q**2 + 0.5*Q**3\n",
        "Cme = TC/Q\n",
        "solve(diff(Cme, Q))"
      ],
      "metadata": {
        "colab": {
          "base_uri": "https://localhost:8080/"
        },
        "id": "ZudqZHeF_nt8",
        "outputId": "3bcaf8cc-b6b3-49cd-cbdf-b0c41713d41e"
      },
      "execution_count": 41,
      "outputs": [
        {
          "output_type": "execute_result",
          "data": {
            "text/plain": [
              "[20.0000000000000]"
            ]
          },
          "metadata": {},
          "execution_count": 41
        }
      ]
    },
    {
      "cell_type": "markdown",
      "source": [
        "Exemplo: Equilíbrio de mercado."
      ],
      "metadata": {
        "id": "_8xDqN9GO4YP"
      }
    },
    {
      "cell_type": "code",
      "source": [
        "q = Symbol('q')\n",
        "ps = 10 + 3*q\n",
        "ps"
      ],
      "metadata": {
        "colab": {
          "base_uri": "https://localhost:8080/",
          "height": 39
        },
        "id": "UAlMvilxO4oi",
        "outputId": "464d8bf6-d6dc-4299-9e6e-cad7516710d4"
      },
      "execution_count": 62,
      "outputs": [
        {
          "output_type": "execute_result",
          "data": {
            "text/latex": "$\\displaystyle 3 q + 10$",
            "text/plain": [
              "3*q + 10"
            ]
          },
          "metadata": {},
          "execution_count": 62
        }
      ]
    },
    {
      "cell_type": "code",
      "source": [
        "pd = 130 - 2*q\n",
        "pd"
      ],
      "metadata": {
        "colab": {
          "base_uri": "https://localhost:8080/",
          "height": 39
        },
        "id": "lNEVAw0IYmun",
        "outputId": "06ea6e51-e80f-438b-d0a9-20162a1a335c"
      },
      "execution_count": 67,
      "outputs": [
        {
          "output_type": "execute_result",
          "data": {
            "text/latex": "$\\displaystyle 130 - 2 q$",
            "text/plain": [
              "130 - 2*q"
            ]
          },
          "metadata": {},
          "execution_count": 67
        }
      ]
    },
    {
      "cell_type": "code",
      "source": [
        "eq = Eq(pd, ps)\n",
        "q_eq = solve(eq)\n",
        "q_eq"
      ],
      "metadata": {
        "colab": {
          "base_uri": "https://localhost:8080/"
        },
        "id": "HBcFL7tcYxdx",
        "outputId": "9334d324-782f-42d7-923c-79d1f72a7323"
      },
      "execution_count": 68,
      "outputs": [
        {
          "output_type": "execute_result",
          "data": {
            "text/plain": [
              "[24]"
            ]
          },
          "metadata": {},
          "execution_count": 68
        }
      ]
    },
    {
      "cell_type": "code",
      "source": [
        "type(q_eq)"
      ],
      "metadata": {
        "id": "oU6C1zNEhE1H",
        "outputId": "c8dbb00a-5263-4e63-cc7a-59c3ae8aade5",
        "colab": {
          "base_uri": "https://localhost:8080/"
        }
      },
      "execution_count": 74,
      "outputs": [
        {
          "output_type": "execute_result",
          "data": {
            "text/plain": [
              "list"
            ]
          },
          "metadata": {},
          "execution_count": 74
        }
      ]
    },
    {
      "cell_type": "code",
      "source": [
        "p_eq = ps.subs(q, q_eq[0])\n",
        "p_eq "
      ],
      "metadata": {
        "colab": {
          "base_uri": "https://localhost:8080/",
          "height": 37
        },
        "id": "nNseKbDXZA8u",
        "outputId": "85889e7c-9fbc-47eb-9b57-ce4f4965c5d8"
      },
      "execution_count": 75,
      "outputs": [
        {
          "output_type": "execute_result",
          "data": {
            "text/latex": "$\\displaystyle 82$",
            "text/plain": [
              "82"
            ]
          },
          "metadata": {},
          "execution_count": 75
        }
      ]
    },
    {
      "cell_type": "code",
      "source": [
        "plot(pd, ps, (q, 0, 100), ylim = (0, 150), xlim = (0, 70), \n",
        "     title = 'Equilíbrio de Mercado', xlabel='Quantidade', ylabel='Preço');"
      ],
      "metadata": {
        "id": "GTgUu9PkeGSV",
        "outputId": "92d7064c-43fe-4e22-92ed-3d54cd16ced7",
        "colab": {
          "base_uri": "https://localhost:8080/",
          "height": 297
        }
      },
      "execution_count": 72,
      "outputs": [
        {
          "output_type": "display_data",
          "data": {
            "image/png": "[encoded data removed]",
            "text/plain": [
              "<Figure size 432x288 with 1 Axes>"
            ]
          },
          "metadata": {
            "needs_background": "light"
          }
        }
      ]
    }
  ]
}