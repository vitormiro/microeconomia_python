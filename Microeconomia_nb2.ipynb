{
  "nbformat": 4,
  "nbformat_minor": 0,
  "metadata": {
    "colab": {
      "name": "Microeconomia_nb2.ipynb",
      "provenance": [],
      "authorship_tag": "ABX9TyOzrZUaSGar+s/LYdr5Ocpu",
      "include_colab_link": true
    },
    "kernelspec": {
      "name": "python3",
      "display_name": "Python 3"
    },
    "language_info": {
      "name": "python"
    }
  },
  "cells": [
    {
      "cell_type": "markdown",
      "metadata": {
        "id": "view-in-github",
        "colab_type": "text"
      },
      "source": [
        "<a href=\"https://colab.research.google.com/github/vitormiro/microeconomia_python/blob/main/Microeconomia_nb2.ipynb\" target=\"_parent\"><img src=\"https://colab.research.google.com/assets/colab-badge.svg\" alt=\"Open In Colab\"/></a>"
      ]
    },
    {
      "cell_type": "markdown",
      "source": [
        "## Maximização de utilidade\n",
        "\n",
        "O problema clássico na Teoria do Consumidor é a maximização da utilidade dado um conjunto de restrições.\n",
        "\n",
        "Considere uma função de utilidade do tipo Cobb-Douglas:\n",
        "\n",
        "$$ u(x, y) = A x^{\\alpha} y^{1 - \\alpha} $$\n",
        "\n",
        "E uma restrição orçamentária do tipo:\n",
        "\n",
        "$$ p_x x + p_y y = R $$"
      ],
      "metadata": {
        "id": "cKYoxMzKCfLN"
      }
    },
    {
      "cell_type": "markdown",
      "source": [
        "Vejamos um exemplo em que o consumidor maximiza a seguinte função utilidade\n",
        "\n",
        "$$ u(x, y) = 8 x^{0.5} y^{0.5} $$\n",
        "\n",
        "sujeita a seguinte restrição orçamentária:\n",
        "\n",
        "$$ 10 x + 8 y = 400 $$"
      ],
      "metadata": {
        "id": "AoiA-rLFDua0"
      }
    },
    {
      "cell_type": "code",
      "source": [
        "from sympy import *"
      ],
      "metadata": {
        "id": "LvncbWS0F-TB"
      },
      "execution_count": 3,
      "outputs": []
    },
    {
      "cell_type": "code",
      "source": [
        "x, y = symbols('x, y')\n",
        "u = 8*x**0.5 * y**0.5\n",
        "px, py, R = 10, 8, 400\n",
        "# Condição de tangência: TMS = razão de preços\n",
        "TMS = Eq(diff(u, x)/ diff(u, y), px/py)\n",
        "# Restrição orçamentária\n",
        "RO = Eq(R, px*x + py*y)\n",
        "# Resolvendo\n",
        "solve((TMS, RO))"
      ],
      "metadata": {
        "id": "17Lvgvo0CdpZ",
        "colab": {
          "base_uri": "https://localhost:8080/"
        },
        "outputId": "29e48557-4c12-43ab-d5e5-0f8d49928fef"
      },
      "execution_count": 5,
      "outputs": [
        {
          "output_type": "execute_result",
          "data": {
            "text/plain": [
              "{x: 20.0000000000000, y: 25.0000000000000}"
            ]
          },
          "metadata": {},
          "execution_count": 5
        }
      ]
    },
    {
      "cell_type": "markdown",
      "source": [
        ""
      ],
      "metadata": {
        "id": "y7ZJe6SSG2bt"
      }
    },
    {
      "cell_type": "code",
      "source": [
        "maxU = u.subs([(x, 20), (y, 25)]) # usando uma lista\n",
        "maxU = u.subs({x: 20, y: 25}) # usando um dicionário"
      ],
      "metadata": {
        "id": "M06MhbCCGEeW"
      },
      "execution_count": 7,
      "outputs": []
    },
    {
      "cell_type": "code",
      "source": [
        "orcamento = (R - px*x)/py\n",
        "c_indif = (maxU/(8*sqrt(x)))**2\n",
        "\n",
        "plot(orcamento, c_indif, (x, 0, 100), ylim = (0, 80), xlim = (0, 60), \n",
        "     xlabel='x', ylabel='y');"
      ],
      "metadata": {
        "colab": {
          "base_uri": "https://localhost:8080/",
          "height": 297
        },
        "id": "4URO5EsUHdz4",
        "outputId": "1f7eb3fb-d9a2-4bec-8535-cc89d9a0ab09"
      },
      "execution_count": 10,
      "outputs": [
        {
          "output_type": "display_data",
          "data": {
            "image/png": "[encoded data removed]",
            "text/plain": [
              "<Figure size 432x288 with 1 Axes>"
            ]
          },
          "metadata": {
            "needs_background": "light"
          }
        }
      ]
    }
  ]
}