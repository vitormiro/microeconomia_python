{
  "nbformat": 4,
  "nbformat_minor": 0,
  "metadata": {
    "colab": {
      "provenance": [],
      "collapsed_sections": [],
      "authorship_tag": "ABX9TyPETLsCJ+mwJM8v0vtq7oJn",
      "include_colab_link": true
    },
    "kernelspec": {
      "name": "python3",
      "display_name": "Python 3"
    },
    "language_info": {
      "name": "python"
    }
  },
  "cells": [
    {
      "cell_type": "markdown",
      "metadata": {
        "id": "view-in-github",
        "colab_type": "text"
      },
      "source": [
        "<a href=\"https://colab.research.google.com/github/vitormiro/microeconomia_python/blob/main/Microeconomia_nb2.ipynb\" target=\"_parent\"><img src=\"https://colab.research.google.com/assets/colab-badge.svg\" alt=\"Open In Colab\"/></a>"
      ]
    },
    {
      "cell_type": "markdown",
      "source": [
        "## Maximização de utilidade\n",
        "\n",
        "O problema clássico na Teoria do Consumidor é a maximização da utilidade dada a restrição de um conjunto orçamentário.\n",
        "\n",
        "Considere uma função de utilidade do tipo Cobb-Douglas:\n",
        "\n",
        "$$ u(x, y) = A x^{\\alpha} y^{1 - \\alpha} $$\n",
        "\n",
        "E uma restrição orçamentária do tipo:\n",
        "\n",
        "$$ p_x x + p_y y = R $$"
      ],
      "metadata": {
        "id": "cKYoxMzKCfLN"
      }
    },
    {
      "cell_type": "markdown",
      "source": [
        "**Exemplo**\n",
        "\n",
        "Vejamos um exemplo em que o consumidor maximiza a seguinte função utilidade\n",
        "\n",
        "$$ u(x, y) = 8 x^{0.5} y^{0.5} $$\n",
        "\n",
        "sujeita a seguinte restrição orçamentária:\n",
        "\n",
        "$$ 10 x + 8 y = 400 $$"
      ],
      "metadata": {
        "id": "AoiA-rLFDua0"
      }
    },
    {
      "cell_type": "code",
      "source": [
        "# Importar sympy\n",
        "from sympy import *"
      ],
      "metadata": {
        "id": "LvncbWS0F-TB"
      },
      "execution_count": 1,
      "outputs": []
    },
    {
      "cell_type": "code",
      "source": [
        "# Definindo simbolos\n",
        "x, y = symbols('x, y')\n",
        "\n",
        "# Definir a função\n",
        "u = 8*x**0.5 * y**0.5\n",
        "\n",
        "# Parâmetros orçamentários\n",
        "px, py, R = 10, 8, 400\n",
        "\n",
        "# Condição de tangência: TMS = razão de preços\n",
        "TMS = Eq(diff(u, x)/ diff(u, y), px/py)\n",
        "\n",
        "# Restrição orçamentária\n",
        "RO = Eq(R, px*x + py*y)\n",
        "\n",
        "# Resolvendo\n",
        "solve((TMS, RO))"
      ],
      "metadata": {
        "id": "17Lvgvo0CdpZ",
        "colab": {
          "base_uri": "https://localhost:8080/"
        },
        "outputId": "d6731d8c-6264-4809-e1a6-b4683a4f3476"
      },
      "execution_count": 2,
      "outputs": [
        {
          "output_type": "execute_result",
          "data": {
            "text/plain": [
              "{x: 20.0000000000000, y: 25.0000000000000}"
            ]
          },
          "metadata": {},
          "execution_count": 2
        }
      ]
    },
    {
      "cell_type": "code",
      "source": [
        "# Valor da utilidade maximizada\n",
        "maxU = u.subs([(x, 20), (y, 25)]) # usando uma lista\n",
        "round(maxU, 2)"
      ],
      "metadata": {
        "id": "M06MhbCCGEeW",
        "colab": {
          "base_uri": "https://localhost:8080/",
          "height": 37
        },
        "outputId": "b264a7e6-9843-4da0-b8b6-3fb3abc0abb4"
      },
      "execution_count": 7,
      "outputs": [
        {
          "output_type": "execute_result",
          "data": {
            "text/plain": [
              "178.89"
            ],
            "text/latex": "$\\displaystyle 178.89$"
          },
          "metadata": {},
          "execution_count": 7
        }
      ]
    },
    {
      "cell_type": "code",
      "source": [
        "maxU = u.subs({x: 20, y: 25}) # usando um dicionário\n",
        "round(maxU, 2)"
      ],
      "metadata": {
        "colab": {
          "base_uri": "https://localhost:8080/",
          "height": 37
        },
        "id": "2-wC6ahJ_BTP",
        "outputId": "d4aa3505-1b7e-4e5d-8d8b-552da931ee96"
      },
      "execution_count": 8,
      "outputs": [
        {
          "output_type": "execute_result",
          "data": {
            "text/plain": [
              "178.89"
            ],
            "text/latex": "$\\displaystyle 178.89$"
          },
          "metadata": {},
          "execution_count": 8
        }
      ]
    },
    {
      "cell_type": "code",
      "source": [
        "# Função da restrição\n",
        "orcamento = (R - px*x)/py\n",
        "\n",
        "# Curva de indiferença\n",
        "c_indif = (maxU/(8*sqrt(x)))**2"
      ],
      "metadata": {
        "id": "4URO5EsUHdz4"
      },
      "execution_count": 11,
      "outputs": []
    },
    {
      "cell_type": "markdown",
      "source": [
        "Vamos plotar um gráfico simples para esse problema."
      ],
      "metadata": {
        "id": "Y-Q99vS9D82X"
      }
    },
    {
      "cell_type": "code",
      "source": [
        "p1 = plot(orcamento, (x, 0, 100), ylim = (0, 80), xlim = (0, 60), \n",
        "     xlabel='x', ylabel='y', line_color='red', legend=True, show=False)\n",
        "p1[0].label = 'Orçamento'\n",
        "\n",
        "p2 = plot(c_indif, (x, 0, 100), ylim = (0, 80), xlim = (0, 60), \n",
        "     xlabel='x', ylabel='y', line_color='blue', legend=True, show=False)\n",
        "p2[0].label = 'Utilidade'\n",
        "\n",
        "p1.extend(p2)\n",
        "p1.show()"
      ],
      "metadata": {
        "colab": {
          "base_uri": "https://localhost:8080/",
          "height": 297
        },
        "id": "OZA3aCkfAcEp",
        "outputId": "10743919-fbd7-49f3-c238-a761a1e2c48c"
      },
      "execution_count": 23,
      "outputs": [
        {
          "output_type": "display_data",
          "data": {
            "text/plain": [
              "<Figure size 432x288 with 1 Axes>"
            ],
            "image/png": "[encoded data removed]"
          },
          "metadata": {
            "needs_background": "light"
          }
        }
      ]
    },
    {
      "cell_type": "code",
      "source": [],
      "metadata": {
        "id": "SMXP9Qk6D4l1"
      },
      "execution_count": null,
      "outputs": []
    }
  ]
}